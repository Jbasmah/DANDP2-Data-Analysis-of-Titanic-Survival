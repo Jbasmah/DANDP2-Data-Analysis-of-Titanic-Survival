{
 "cells": [
  {
   "cell_type": "markdown",
   "metadata": {},
   "source": [
    "### Project 2: Code for the Analysis of Titanic Data\n",
    "\n",
    "Liang Sun\n",
    "\n",
    "January 4, 2017"
   ]
  },
  {
   "cell_type": "markdown",
   "metadata": {},
   "source": [
    "********"
   ]
  },
  {
   "cell_type": "markdown",
   "metadata": {},
   "source": [
    "#### Data Wrangling"
   ]
  },
  {
   "cell_type": "code",
   "execution_count": null,
   "metadata": {
    "collapsed": false
   },
   "outputs": [],
   "source": [
    "#Import packages and read file\n",
    "#Read the data file \n",
    "import matplotlib.pyplot as plt\n",
    "import numpy as np\n",
    "import pandas as pd\n",
    "%pylab inline  \n",
    "\n",
    "filename = 'C:/Users/Liang Sun/Documents/My NanoDegree/dandp2_project/titanic-data.csv'\n",
    "titanic_df = pd.read_csv(filename)"
   ]
  },
  {
   "cell_type": "code",
   "execution_count": null,
   "metadata": {
    "collapsed": false
   },
   "outputs": [],
   "source": [
    "# Create a copy of the orignial data where \"sex\" is coded as 1=female and 0=male\n",
    "def convert_sex(sex):\n",
    "    if sex == 'female':\n",
    "        sex = 1\n",
    "    else:\n",
    "        sex = 0\n",
    "    return sex\n",
    "titan_df = titanic_df.copy()\n",
    "titan_df['Sex'] = titan_df['Sex'].apply(convert_sex)\n",
    "titan_df.head()"
   ]
  },
  {
   "cell_type": "code",
   "execution_count": null,
   "metadata": {
    "collapsed": false
   },
   "outputs": [],
   "source": [
    "# \"Pclass\",\"Embarked\" are categorical, so we get their dummies for analysis\n",
    "class_dummies = pd.get_dummies(titan_df['Pclass'],prefix='class')\n",
    "embark_dummies = pd.get_dummies(titan_df['Embarked'],prefix='port')\n",
    "titan_df = pd.concat([titan_df,class_dummies,embark_dummies],axis=1)"
   ]
  },
  {
   "cell_type": "markdown",
   "metadata": {},
   "source": [
    "****"
   ]
  },
  {
   "cell_type": "markdown",
   "metadata": {},
   "source": [
    "The following codes for data analysis are arranged in the order of answering the questions stated in the project."
   ]
  },
  {
   "cell_type": "markdown",
   "metadata": {},
   "source": [
    "#### Question 1: Summary statistics"
   ]
  },
  {
   "cell_type": "code",
   "execution_count": null,
   "metadata": {
    "collapsed": false,
    "scrolled": true
   },
   "outputs": [],
   "source": [
    "titan_df.describe()"
   ]
  },
  {
   "cell_type": "code",
   "execution_count": null,
   "metadata": {
    "collapsed": false
   },
   "outputs": [],
   "source": [
    "titan_df.groupby('Survived',as_index=False).describe()"
   ]
  },
  {
   "cell_type": "markdown",
   "metadata": {},
   "source": [
    "#### Question 2: Relationship between age and survival"
   ]
  },
  {
   "cell_type": "code",
   "execution_count": null,
   "metadata": {
    "collapsed": false
   },
   "outputs": [],
   "source": [
    "#Get the mean of age by survival\n",
    "age_survival = titan_df[['Survived','Age']] # 891 observations\n",
    "age_surv = age_survival.dropna() #Drop missing values of age, and 714 observations are kept\n",
    "age_surv.groupby('Survived',as_index=False).mean()"
   ]
  },
  {
   "cell_type": "code",
   "execution_count": null,
   "metadata": {
    "collapsed": false
   },
   "outputs": [],
   "source": [
    "#Perform a t-test comparing the age mean between survived and non-survived\n",
    "from scipy.stats import ttest_ind\n",
    "surv1 = age_surv[age_surv['Survived']==0] \n",
    "surv2 = age_surv[age_surv['Survived']==1]\n",
    "ttest_ind(surv1['Age'], surv2['Age'])"
   ]
  },
  {
   "cell_type": "code",
   "execution_count": null,
   "metadata": {
    "collapsed": false
   },
   "outputs": [],
   "source": [
    "#Visualization: boxplot of age by survival\n",
    "age_surv.boxplot(by='Survived')\n",
    "plt.xticks([1,2], ['Not survived','Survived'])\n",
    "plt.savefig('boxplot_age.png');"
   ]
  },
  {
   "cell_type": "code",
   "execution_count": null,
   "metadata": {
    "collapsed": false
   },
   "outputs": [],
   "source": [
    "#Visualization: histogram of age by survival\n",
    "plt.figure(figsize=[20,6])\n",
    "\n",
    "plt.subplot(1,2,1)\n",
    "plt.hist(surv1['Age'])\n",
    "plt.title('Not survived',fontsize=16)\n",
    "plt.ylabel('Frequency',fontsize=16)\n",
    "\n",
    "plt.subplot(1,2,2)\n",
    "plt.hist(surv2['Age'])\n",
    "plt.title('Survived',fontsize=16)\n",
    "plt.suptitle('Distrbution of Age by Survival',fontsize=20)\n",
    "plt.savefig(\"hist_age.png\");"
   ]
  },
  {
   "cell_type": "code",
   "execution_count": null,
   "metadata": {
    "collapsed": false
   },
   "outputs": [],
   "source": [
    "# Group age into children and adults\n",
    "age_surv_kid = age_surv[age_surv['Age']<=16] \n",
    "age_surv_adult = age_surv[age_surv['Age']>16]\n",
    "ttest_ind(age_surv_kid['Survived'], age_surv_adult['Survived'])"
   ]
  },
  {
   "cell_type": "code",
   "execution_count": null,
   "metadata": {
    "collapsed": false
   },
   "outputs": [],
   "source": [
    "#Create a dataset with an indicator of children or adult\n",
    "kid_surv=age_surv.copy()\n",
    "kid_surv['kid']=''\n",
    "def convert_kid(age):\n",
    "    if age<=16:\n",
    "        return 1\n",
    "    else:\n",
    "        return 0\n",
    "kid_surv['kid']=kid_surv['Age'].apply(convert_kid)\n",
    "kid_surv.head()"
   ]
  },
  {
   "cell_type": "code",
   "execution_count": null,
   "metadata": {
    "collapsed": false
   },
   "outputs": [],
   "source": [
    "# Visualization: bar chart of survival by children vs adult\n",
    "kid_surv_no=kid_surv[kid_surv['Survived']==0]\n",
    "kid_surv_yes=kid_surv[kid_surv['Survived']==1]\n",
    "no_surv = kid_surv_no.groupby('kid',as_index=False).count()\n",
    "surv = kid_surv_yes.groupby('kid',as_index=False).count()\n",
    "\n",
    "n_group=2\n",
    "objects=['Adult','Children']\n",
    "index=np.arange(n_group)\n",
    "bar_width = 0.35\n",
    "plt.figure(figsize=(5,3))\n",
    "plt.bar(index,no_surv['Survived'],bar_width,color='b',label='Not survived')\n",
    "plt.xticks(index+bar_width, objects)\n",
    "plt.bar(index+bar_width,surv['Survived'],bar_width,color='g',label='Survived')\n",
    "plt.legend(fontsize=10)\n",
    "plt.ylabel('Frequency',fontsize=10)\n",
    "plt.suptitle('Survival by Age Group',fontsize=12)\n",
    "plt.savefig('survival_by_kid.png');"
   ]
  },
  {
   "cell_type": "markdown",
   "metadata": {},
   "source": [
    "#### Question 3: Relationship between gender and survival"
   ]
  },
  {
   "cell_type": "code",
   "execution_count": null,
   "metadata": {
    "collapsed": false
   },
   "outputs": [],
   "source": [
    "#Get survival rate by gender\n",
    "gender_survival = titan_df[['Survived','Sex']] # 891 observations\n",
    "gender_survival.groupby('Sex',as_index=False).mean()"
   ]
  },
  {
   "cell_type": "code",
   "execution_count": null,
   "metadata": {
    "collapsed": false
   },
   "outputs": [],
   "source": [
    "male=gender_survival[gender_survival['Sex']==0]\n",
    "female=gender_survival[gender_survival['Sex']==1]\n",
    "ttest_ind(male['Survived'],female['Survived'])"
   ]
  },
  {
   "cell_type": "code",
   "execution_count": null,
   "metadata": {
    "collapsed": false
   },
   "outputs": [],
   "source": [
    "#Visualization: survival rate by gender\n",
    "\n",
    "gender_surv1 = gender_survival[gender_survival['Survived']==0] \n",
    "gender_surv2 = gender_survival[gender_survival['Survived']==1]\n",
    "#Generate gender summary statistics by survival for creating bar chart\n",
    "no_surv = gender_surv1.groupby('Sex',as_index=False).count()\n",
    "surv = gender_surv2.groupby('Sex',as_index=False).count()\n",
    "\n",
    "n_group=2\n",
    "objects=['Male','Female']\n",
    "index=np.arange(n_group)\n",
    "bar_width = 0.35\n",
    "plt.figure(figsize=(5,3))\n",
    "plt.bar(index,no_surv['Survived'],bar_width,color='b',label='Not survived')\n",
    "plt.xticks(index+bar_width, objects)\n",
    "plt.bar(index+bar_width,surv['Survived'],bar_width,color='g',label='Survived')\n",
    "plt.legend(fontsize=10)\n",
    "plt.ylabel('Frequency',fontsize=10)\n",
    "plt.suptitle('Survival by gender',fontsize=12)\n",
    "plt.savefig('survival_by_gender.png');"
   ]
  },
  {
   "cell_type": "code",
   "execution_count": null,
   "metadata": {
    "collapsed": false
   },
   "outputs": [],
   "source": [
    "# Or, from a different perspective we can also get gender by survival\n",
    "#Visualization: gender composition by survival\n",
    "\n",
    "#Generate survival summary statistics by gender for creating bar chart\n",
    "m = male.groupby('Survived',as_index=False).count()\n",
    "f = female.groupby('Survived',as_index=False).count()\n",
    "\n",
    "n_group=2\n",
    "objects=['Not survived','Survived']\n",
    "index=np.arange(n_group)\n",
    "bar_width = 0.35\n",
    "plt.figure(figsize=(5,3))\n",
    "plt.bar(index,m['Sex'],bar_width,color='b',label='Male')\n",
    "plt.xticks(index+bar_width, objects)\n",
    "plt.bar(index+bar_width,f['Sex'],bar_width,color='g',label='Female')\n",
    "plt.legend(fontsize=10)\n",
    "plt.ylabel('Frequency',fontsize=10)\n",
    "plt.suptitle('Gender by survival',fontsize=12)\n",
    "plt.savefig('gender.png');"
   ]
  },
  {
   "cell_type": "markdown",
   "metadata": {},
   "source": [
    "#### Question 4: Relationship between fare and survivial\n"
   ]
  },
  {
   "cell_type": "code",
   "execution_count": null,
   "metadata": {
    "collapsed": false
   },
   "outputs": [],
   "source": [
    "#Create data of survival and fare only\n",
    "fare_survival=titan_df[['Survived','Fare']]"
   ]
  },
  {
   "cell_type": "code",
   "execution_count": null,
   "metadata": {
    "collapsed": false
   },
   "outputs": [],
   "source": [
    "#t-test of the mean of fare between survivors and non-survivors\n",
    "fare_surv1 = fare_survival[fare_survival['Survived']==0] \n",
    "fare_surv2 = fare_survival[fare_survival['Survived']==1]\n",
    "ttest_ind(fare_surv1['Fare'], fare_surv2['Fare'])"
   ]
  },
  {
   "cell_type": "code",
   "execution_count": null,
   "metadata": {
    "collapsed": false
   },
   "outputs": [],
   "source": [
    "#Visualization: histogram of fare by survival\n",
    "plt.figure(figsize=[20,6])\n",
    "\n",
    "plt.subplot(1,2,1)\n",
    "plt.hist(fare_surv1['Fare'],bins=[0,50,100,150,200,250,300,350])\n",
    "plt.title('Not survived',fontsize=16)\n",
    "plt.ylabel('Frequency',fontsize=16)\n",
    "plt.ylim(0,500)\n",
    "plt.xlim(0,600)\n",
    "\n",
    "plt.subplot(1,2,2)\n",
    "plt.hist(fare_surv2['Fare'])\n",
    "plt.title('Survived',fontsize=16)\n",
    "plt.ylim(0,500)\n",
    "\n",
    "plt.suptitle('Distrbution of Fare by Survival',fontsize=20)\n",
    "plt.savefig(\"hist_fare.png\");"
   ]
  },
  {
   "cell_type": "markdown",
   "metadata": {},
   "source": [
    "#### Question 5: Relationship between class and survivial"
   ]
  },
  {
   "cell_type": "code",
   "execution_count": null,
   "metadata": {
    "collapsed": false
   },
   "outputs": [],
   "source": [
    "#Get the survival rate by class\n",
    "class_survival = titan_df[['Survived','Pclass']] # 891 observations\n",
    "class_survival.groupby('Pclass',as_index=False).mean()"
   ]
  },
  {
   "cell_type": "code",
   "execution_count": null,
   "metadata": {
    "collapsed": false
   },
   "outputs": [],
   "source": [
    "class_survival.groupby('Pclass',as_index=False).count()"
   ]
  },
  {
   "cell_type": "code",
   "execution_count": null,
   "metadata": {
    "collapsed": false
   },
   "outputs": [],
   "source": [
    "#Perform a t-test comparing the survival rate between every two classes\n",
    "class_surv1 = class_survival[class_survival['Pclass']==1] \n",
    "class_surv2 = class_survival[class_survival['Pclass']==2]\n",
    "class_surv3 = class_survival[class_survival['Pclass']==3]\n",
    "ttest_ind(class_surv1['Survived'], class_surv2['Survived'])"
   ]
  },
  {
   "cell_type": "code",
   "execution_count": null,
   "metadata": {
    "collapsed": false
   },
   "outputs": [],
   "source": [
    "ttest_ind(class_surv1['Survived'], class_surv3['Survived'])"
   ]
  },
  {
   "cell_type": "code",
   "execution_count": null,
   "metadata": {
    "collapsed": false
   },
   "outputs": [],
   "source": [
    "ttest_ind(class_surv2['Survived'], class_surv3['Survived'])"
   ]
  },
  {
   "cell_type": "code",
   "execution_count": null,
   "metadata": {
    "collapsed": false
   },
   "outputs": [],
   "source": [
    "#Visualization: survival rate by class\n",
    "\n",
    "class_surv1 = class_survival[class_survival['Survived']==0] \n",
    "class_surv2 = class_survival[class_survival['Survived']==1]\n",
    "\n",
    "#Generate gender summary statistics by survival for creating bar chart\n",
    "no_surv_class = class_surv1.groupby('Pclass',as_index=False).count()\n",
    "surv_class = class_surv2.groupby('Pclass',as_index=False).count()\n",
    "\n",
    "n_group=3\n",
    "objects=['1st Class','2nd Class', '3rd Class']\n",
    "index=np.arange(n_group)\n",
    "bar_width = 0.35\n",
    "plt.figure(figsize=(5,3))\n",
    "plt.bar(index,no_surv_class['Survived'],bar_width,color='b',label='Not survived')\n",
    "plt.xticks(index+bar_width, objects)\n",
    "plt.bar(index+bar_width,surv_class['Survived'],bar_width,color='g',label='Survived')\n",
    "plt.legend(loc='best',fontsize=10)\n",
    "plt.ylabel('Frequency',fontsize=10)\n",
    "plt.suptitle('Survival by class',fontsize=12)\n",
    "plt.savefig('survival_by_class.png');"
   ]
  },
  {
   "cell_type": "markdown",
   "metadata": {},
   "source": [
    "#### Question 6: Port of embarkation and survivial"
   ]
  },
  {
   "cell_type": "code",
   "execution_count": null,
   "metadata": {
    "collapsed": false
   },
   "outputs": [],
   "source": [
    "#Get the survival rate by port\n",
    "port_survival = titan_df[['Survived','Embarked']]  \n",
    "port_survival.groupby('Embarked',as_index=False).mean()"
   ]
  },
  {
   "cell_type": "code",
   "execution_count": null,
   "metadata": {
    "collapsed": false
   },
   "outputs": [],
   "source": [
    "port_survival.groupby('Embarked',as_index=False).count() #there are 2 missing values"
   ]
  },
  {
   "cell_type": "code",
   "execution_count": null,
   "metadata": {
    "collapsed": false
   },
   "outputs": [],
   "source": [
    "port_surv = port_survival.dropna() \n",
    "port_surv.groupby('Survived',as_index=False).count()"
   ]
  },
  {
   "cell_type": "code",
   "execution_count": null,
   "metadata": {
    "collapsed": false
   },
   "outputs": [],
   "source": [
    "#Perform a t-test comparing the survival rate between every two port\n",
    "port_surv1 = port_survival[port_survival['Embarked']=='C'] \n",
    "port_surv2 = port_survival[port_survival['Embarked']=='Q']\n",
    "port_surv3 = port_survival[port_survival['Embarked']=='S']\n",
    "ttest_ind(port_surv1['Survived'], port_surv2['Survived'])"
   ]
  },
  {
   "cell_type": "code",
   "execution_count": null,
   "metadata": {
    "collapsed": false
   },
   "outputs": [],
   "source": [
    "ttest_ind(port_surv1['Survived'], port_surv3['Survived'])"
   ]
  },
  {
   "cell_type": "code",
   "execution_count": null,
   "metadata": {
    "collapsed": false
   },
   "outputs": [],
   "source": [
    "ttest_ind(port_surv2['Survived'], port_surv3['Survived'])"
   ]
  },
  {
   "cell_type": "code",
   "execution_count": null,
   "metadata": {
    "collapsed": false
   },
   "outputs": [],
   "source": [
    "#Visualization: survival rate by embarkation port\n",
    "\n",
    "port_no_surv = port_survival[port_survival['Survived']==0] \n",
    "port_surv = port_survival[port_survival['Survived']==1]\n",
    "#Generate gender summary statistics by survival for creating bar chart\n",
    "no_surv_port = port_no_surv.groupby('Embarked',as_index=False).count()\n",
    "surv_port = port_surv.groupby('Embarked',as_index=False).count()\n",
    " \n",
    "n_group=3\n",
    "objects=['Cherbourg','Queenstown', 'Southampton']\n",
    "index=np.arange(n_group)\n",
    "bar_width = 0.35\n",
    "plt.figure(figsize=(5,3))\n",
    "plt.bar(index,no_surv_port['Survived'],bar_width,color='b',label='Not survived')\n",
    "plt.xticks(index+bar_width, objects)\n",
    "plt.bar(index+bar_width,surv_port['Survived'],bar_width,color='g',label='Survived')\n",
    "plt.legend(loc='best',fontsize=10)\n",
    "plt.ylabel('Frequency',fontsize=10)\n",
    "plt.suptitle('Survival by port',fontsize=12)\n",
    "plt.savefig('survival_by_port.png');"
   ]
  },
  {
   "cell_type": "code",
   "execution_count": null,
   "metadata": {
    "collapsed": false
   },
   "outputs": [],
   "source": [
    "#Why did passengers who embark from Cherbourg seem to have a higher survival rate?\n",
    "#Let's check the gender, age, and class of passengers from different ports\n",
    "ind_df = titan_df[['Survived','Sex','Age','Pclass','Embarked','Fare']]\n",
    "ind_df.groupby('Embarked',as_index=False).mean()"
   ]
  },
  {
   "cell_type": "code",
   "execution_count": null,
   "metadata": {
    "collapsed": false
   },
   "outputs": [],
   "source": [
    "#Class is probably the main reason, that is, passengers from Cherbourg were more likely to buy first-class tickets\n",
    "class1 = ind_df[ind_df['Pclass']==1] \n",
    "class2 = ind_df[ind_df['Pclass']==2] \n",
    "class3 = ind_df[ind_df['Pclass']==3] \n",
    "\n",
    "#Visualization: class by port\n",
    "class_port1 = class1.groupby('Embarked',as_index=False).count()\n",
    "class_port2 = class2.groupby('Embarked',as_index=False).count()\n",
    "class_port3 = class3.groupby('Embarked',as_index=False).count() \n",
    "\n",
    "n_group=3\n",
    "objects=['Cherbourg','Queenstown', 'Southampton']\n",
    "index=np.arange(n_group)\n",
    "bar_width = 0.15\n",
    "plt.figure(figsize=(5,3))\n",
    "plt.bar(index,class_port1['Pclass'],bar_width,color='b',label='1st Class')\n",
    "plt.xticks(index+1.5*bar_width, objects)\n",
    "plt.bar(index+bar_width,class_port2['Pclass'],bar_width,color='g',label='2nd Class')\n",
    "plt.bar(index+2*bar_width,class_port3['Pclass'],bar_width,color='gray',label='3rd Class')\n",
    "\n",
    "plt.legend(loc='best',fontsize=10)\n",
    "plt.ylabel('Frequency',fontsize=10)\n",
    "plt.suptitle('Class by port',fontsize=12)\n",
    "plt.savefig('class_by_port.png');"
   ]
  },
  {
   "cell_type": "markdown",
   "metadata": {},
   "source": [
    "#### Question 7: How did different factors interact in determining survival?\n",
    "\n",
    "We may wonder that since passengers in first-class cabins had better access to lifeboats and higher survival rate while women and children in general were given priority to evacuate, did women and children in lower-class cabins have same chance to get in lifeboats as those in first-class cabins?"
   ]
  },
  {
   "cell_type": "code",
   "execution_count": null,
   "metadata": {
    "collapsed": false
   },
   "outputs": [],
   "source": [
    "#create a data with survival,age, gender and class \n",
    "int_df = titan_df[['Survived','Pclass','Sex','Age']]\n",
    "\n",
    "#create a subset of data for female only\n",
    "fem_int_df=int_df[int_df['Sex']==1]\n",
    "fem_int_df.groupby('Pclass',as_index=False).mean()"
   ]
  },
  {
   "cell_type": "code",
   "execution_count": null,
   "metadata": {
    "collapsed": false
   },
   "outputs": [],
   "source": [
    "fem_int_df.groupby('Pclass',as_index=False).count()"
   ]
  },
  {
   "cell_type": "code",
   "execution_count": null,
   "metadata": {
    "collapsed": false
   },
   "outputs": [],
   "source": [
    "#Perform a t-test comparing the survival rate of female by class\n",
    "surv1 = fem_int_df[fem_int_df['Pclass']==1] \n",
    "surv2 = fem_int_df[fem_int_df['Pclass']==2]\n",
    "surv3 = fem_int_df[fem_int_df['Pclass']==3]\n",
    "ttest_ind(surv1['Survived'], surv2['Survived']) "
   ]
  },
  {
   "cell_type": "code",
   "execution_count": null,
   "metadata": {
    "collapsed": false
   },
   "outputs": [],
   "source": [
    "ttest_ind(surv1['Survived'], surv3['Survived']) "
   ]
  },
  {
   "cell_type": "code",
   "execution_count": null,
   "metadata": {
    "collapsed": false
   },
   "outputs": [],
   "source": [
    "ttest_ind(surv2['Survived'], surv3['Survived']) "
   ]
  },
  {
   "cell_type": "code",
   "execution_count": null,
   "metadata": {
    "collapsed": false
   },
   "outputs": [],
   "source": [
    "#Visualization: female survival rate by class\n",
    "\n",
    "#Generate gender summary statistics by survival for creating bar chart\n",
    "no_surv=fem_int_df[fem_int_df['Survived']==0]\n",
    "surv=fem_int_df[fem_int_df['Survived']==1]\n",
    "\n",
    "no_surv_class = no_surv.groupby('Pclass',as_index=False).count()\n",
    "surv_class = surv.groupby('Pclass',as_index=False).count()\n",
    "\n",
    "n_group=3\n",
    "objects=['1st Class','2nd Class', '3rd Class']\n",
    "index=np.arange(n_group)\n",
    "bar_width = 0.35\n",
    "plt.figure(figsize=(5,3))\n",
    "plt.bar(index,no_surv_class['Survived'],bar_width,color='b',label='Not survived')\n",
    "plt.xticks(index+bar_width, objects)\n",
    "plt.bar(index+bar_width,surv_class['Survived'],bar_width,color='g',label='Survived')\n",
    "plt.legend(loc='best',fontsize=10)\n",
    "plt.ylabel('Frequency',fontsize=10)\n",
    "plt.suptitle('Female survival by class',fontsize=12)\n",
    "plt.savefig('female_survival_by_class.png');"
   ]
  },
  {
   "cell_type": "code",
   "execution_count": null,
   "metadata": {
    "collapsed": false
   },
   "outputs": [],
   "source": [
    "#Interaction between age and class\n",
    "#Let's define \"children\" as age 16 and below\n",
    "kid_int_df=int_df[int_df['Age']<=16]\n",
    "kid_int_df.groupby('Pclass',as_index=False).mean()"
   ]
  },
  {
   "cell_type": "code",
   "execution_count": null,
   "metadata": {
    "collapsed": false
   },
   "outputs": [],
   "source": [
    "kid_int_df.groupby('Pclass',as_index=False).count()"
   ]
  },
  {
   "cell_type": "code",
   "execution_count": null,
   "metadata": {
    "collapsed": false
   },
   "outputs": [],
   "source": [
    "#Perform a t-test comparing the survival rate of children by class\n",
    "surv1 = kid_int_df[kid_int_df['Pclass']==1] \n",
    "surv2 = kid_int_df[kid_int_df['Pclass']==2]\n",
    "surv3 = kid_int_df[kid_int_df['Pclass']==3]\n",
    "ttest_ind(surv1['Survived'], surv2['Survived']) "
   ]
  },
  {
   "cell_type": "code",
   "execution_count": null,
   "metadata": {
    "collapsed": false
   },
   "outputs": [],
   "source": [
    "ttest_ind(surv1['Survived'], surv3['Survived']) "
   ]
  },
  {
   "cell_type": "code",
   "execution_count": null,
   "metadata": {
    "collapsed": false
   },
   "outputs": [],
   "source": [
    "ttest_ind(surv2['Survived'], surv3['Survived']) "
   ]
  },
  {
   "cell_type": "code",
   "execution_count": null,
   "metadata": {
    "collapsed": false
   },
   "outputs": [],
   "source": [
    "#Visualization: survival rate by class\n",
    "\n",
    "#Generate gender summary statistics by survival for creating bar chart\n",
    "no_surv=kid_int_df[kid_int_df['Survived']==0]\n",
    "surv=kid_int_df[kid_int_df['Survived']==1]\n",
    "\n",
    "no_surv_class = no_surv.groupby('Pclass',as_index=False).count()\n",
    "surv_class = surv.groupby('Pclass',as_index=False).count()\n",
    "\n",
    "n_group=3\n",
    "objects=['1st Class','2nd Class', '3rd Class']\n",
    "index=np.arange(n_group)\n",
    "bar_width = 0.35\n",
    "plt.figure(figsize=(5,3))\n",
    "plt.bar(index,no_surv_class['Survived'],bar_width,color='b',label='Not survived')\n",
    "plt.xticks(index+bar_width, objects)\n",
    "plt.bar(index+bar_width,surv_class['Survived'],bar_width,color='g',label='Survived')\n",
    "plt.legend(loc='best',fontsize=10)\n",
    "plt.ylabel('Frequency',fontsize=10)\n",
    "plt.suptitle('Children survival by class',fontsize=12)\n",
    "plt.savefig('kid_survival_by_class.png');"
   ]
  },
  {
   "cell_type": "markdown",
   "metadata": {},
   "source": [
    "#### Question 8: Family loss of passengers who survived\n"
   ]
  },
  {
   "cell_type": "code",
   "execution_count": null,
   "metadata": {
    "collapsed": false
   },
   "outputs": [],
   "source": [
    "# Every observation has a ticket number and family had identical ticket number,\n",
    "# so people with same ticket number and have \"SibSp\" or \"Parch\" on board can be identified as family\n",
    "family_df=titan_df[['Survived','Pclass','SibSp','Parch','Ticket']]\n",
    "#create a new column indicating total number of family members on board\n",
    "fam_df=family_df.copy()\n",
    "fam_df['fam']=fam_df['SibSp']+fam_df['Parch']\n",
    "fam_df['loss']=''\n",
    "fam_df.head()"
   ]
  },
  {
   "cell_type": "code",
   "execution_count": null,
   "metadata": {
    "collapsed": false
   },
   "outputs": [],
   "source": [
    "#sort by ticket \n",
    "fam_df = fam_df.sort_values('Ticket')\n",
    "fam_df.head()"
   ]
  },
  {
   "cell_type": "code",
   "execution_count": null,
   "metadata": {
    "collapsed": false
   },
   "outputs": [],
   "source": [
    "#Get the mean of survival by ticket number\n",
    "fam_sur_mean = fam_df.groupby('Ticket',as_index=False).mean()\n",
    "fam_sur_mean.head()"
   ]
  },
  {
   "cell_type": "code",
   "execution_count": null,
   "metadata": {
    "collapsed": true
   },
   "outputs": [],
   "source": [
    "#If the mean of survival is 1, it means passengers with the same ticket number all survived; otherwise, some of them died\n",
    "#If passengers with survival mean less than 1 had family members (sibsp,parch) on board, then there was family loss for them.\n",
    "for i in range(len(fam_df)):\n",
    "    for j in range(len(fam_sur_mean)):\n",
    "        if fam_df.iloc[i,4]==fam_sur_mean.iloc[j,0]:\n",
    "            fam_df.iloc[i,6] = fam_sur_mean.iloc[j,1]-1\n",
    "for i in range(len(fam_df)):    \n",
    "    if fam_df.iloc[i,6]<0:\n",
    "        fam_df.iloc[i,6] = 1"
   ]
  },
  {
   "cell_type": "code",
   "execution_count": null,
   "metadata": {
    "collapsed": false
   },
   "outputs": [],
   "source": [
    "# A data set containing only passenger who survived, with an indicator of whether losing family in the disaster\n",
    "sur_fam_df=fam_df[fam_df['Survived']==1]\n",
    "sur_fam_df.describe()"
   ]
  },
  {
   "cell_type": "code",
   "execution_count": null,
   "metadata": {
    "collapsed": false
   },
   "outputs": [],
   "source": [
    "sur_fam_df['loss'].mean() #21.05% of the passengers in this data who survived lost their family members in the disaster"
   ]
  },
  {
   "cell_type": "code",
   "execution_count": null,
   "metadata": {
    "collapsed": false
   },
   "outputs": [],
   "source": [
    "sur_fam_loss=sur_fam_df[sur_fam_df['loss']==1]\n",
    "sur_fam_loss.count() #72 of survivors lost family members "
   ]
  },
  {
   "cell_type": "code",
   "execution_count": null,
   "metadata": {
    "collapsed": false
   },
   "outputs": [],
   "source": [
    "#Visualization: distribution of number of family members who died in the disaster of the survivors\n",
    "sur_loss_df=sur_fam_df[sur_fam_df['loss']==1]\n",
    "\n",
    "plt.figure(figsize=(5,3))\n",
    "plt.hist(sur_loss_df['fam'],bins=6) \n",
    "plt.ylabel('Frequency')\n",
    "plt.suptitle('Number of family losses of survivors')\n",
    "plt.savefig('hist_fam_loss');"
   ]
  }
 ],
 "metadata": {
  "anaconda-cloud": {},
  "kernelspec": {
   "display_name": "Python [conda root]",
   "language": "python",
   "name": "conda-root-py"
  },
  "language_info": {
   "codemirror_mode": {
    "name": "ipython",
    "version": 2
   },
   "file_extension": ".py",
   "mimetype": "text/x-python",
   "name": "python",
   "nbconvert_exporter": "python",
   "pygments_lexer": "ipython2",
   "version": "2.7.12"
  }
 },
 "nbformat": 4,
 "nbformat_minor": 1
}
